{
 "cells": [
  {
   "cell_type": "code",
   "execution_count": null,
   "id": "113f8a33",
   "metadata": {
    "hideCode": true,
    "hideOutput": true,
    "hidePrompt": true,
    "slideshow": {
     "slide_type": "skip"
    }
   },
   "outputs": [],
   "source": [
    "import matplotlib.pyplot as plt"
   ]
  },
  {
   "cell_type": "markdown",
   "id": "61589e1c",
   "metadata": {
    "hideCode": false,
    "hideOutput": false,
    "hidePrompt": false,
    "slideshow": {
     "slide_type": "slide"
    }
   },
   "source": [
    "# Classic models of drift and selection\n",
    "\n",
    "- Single locus models of two alleles\n",
    "- Haploids and diploids"
   ]
  },
  {
   "cell_type": "markdown",
   "id": "b8ebbfa4",
   "metadata": {
    "slideshow": {
     "slide_type": "slide"
    }
   },
   "source": [
    "# Haploids\n",
    "\n",
    "- There are two alleles, $A_1$ and $A_2$.\n",
    "- The frequency of $A_1$ is $p_1$.\n",
    "- The frequency of $A_2$ is $p_2 = 1 - p_1$.\n",
    "- $\\sum_i p_i = 1$\n",
    "- The fitness of $A_i$ is $w_i$."
   ]
  },
  {
   "cell_type": "markdown",
   "id": "c06c5644",
   "metadata": {
    "slideshow": {
     "slide_type": "slide"
    }
   },
   "source": [
    "# Population mean fitness\n",
    "\n",
    "The mean fitness, $\\bar w$, is the weighted average of fitnesses:\n",
    "\n",
    "$$\n",
    "\\bar w = pw_1 + (1-p)w_2\n",
    "$$"
   ]
  },
  {
   "cell_type": "markdown",
   "id": "7b0e3675",
   "metadata": {
    "slideshow": {
     "slide_type": "slide"
    }
   },
   "source": [
    "# Fitness\n",
    "\n",
    "- We usually mean relative fitness.\n",
    "- Relative fitness is why $\\bar w$ is important.\n",
    "- The frequency of $A_i$ in the next generation is $p_i\\frac{w_i}{\\bar w}$."
   ]
  },
  {
   "cell_type": "markdown",
   "id": "81dae82c",
   "metadata": {
    "slideshow": {
     "slide_type": "slide"
    }
   },
   "source": [
    "# Basic recursions\n",
    "\n",
    "Let $p'_2$ be the frequency of $A_2$ one generation in the future:\n",
    "\n",
    "$$\n",
    "p'_2 = p_2\\frac{w_2}{\\bar w}.\n",
    "$$"
   ]
  },
  {
   "cell_type": "markdown",
   "id": "3c62c620",
   "metadata": {
    "slideshow": {
     "slide_type": "fragment"
    }
   },
   "source": [
    "Then,\n",
    "\n",
    "$$\n",
    "\\begin{align}\n",
    "\\Delta p_2 & = p'_2 - p_2 \\\\\n",
    " & = p_2\\frac{w_2}{\\bar w} - p_2 \\\\\n",
    " & = \\frac{p_1p_2(w_2 - w_1)}{\\bar w}.\n",
    "\\end{align}\n",
    "$$"
   ]
  },
  {
   "cell_type": "markdown",
   "id": "648aca58",
   "metadata": {
    "slideshow": {
     "slide_type": "slide"
    }
   },
   "source": [
    "# Infinite populations\n",
    "\n",
    "- Infinite means *no stochasticity*.\n",
    "- $p_i$ changes deterministically according to $\\Delta p_i$."
   ]
  },
  {
   "cell_type": "code",
   "execution_count": null,
   "id": "2cf7bd67",
   "metadata": {
    "hideCode": true,
    "hidePrompt": true,
    "slideshow": {
     "slide_type": "-"
    }
   },
   "outputs": [],
   "source": [
    "p = [1e-6]\n",
    "w1 = 1.0\n",
    "w2 = 1.05\n",
    "while p[-1] <= 1 - 1e-6:\n",
    "    dp = p[-1] * (1 - p[-1]) * (w2 - w1) / ((1 - p[-1]) * w1 + p[-1] * w2)\n",
    "    p.append(p[-1] + dp)\n",
    "plt.plot([i + 1 for i in range(len(p))], p)\n",
    "plt.xlabel(\"Generation\")\n",
    "plt.ylabel(\"Frequency\")\n",
    "plt.text(0, 1, r\"$w_1=1,w_2=1.05$\");"
   ]
  },
  {
   "cell_type": "markdown",
   "id": "a45ddf63",
   "metadata": {
    "hideOutput": false,
    "slideshow": {
     "slide_type": "slide"
    }
   },
   "source": [
    "# Finite populations\n",
    "\n",
    "- A haploid population of $N$ individuals.\n",
    "- $N$ is constant over time.\n",
    "- $E[p'_2] = p_2 + \\Delta p_2$.\n",
    "- Therefore, the *number* of copies of $A_2$ in the next generation is a binomial random variable with mean $N(p_2 + \\Delta p_2)$ and variance $p_2(1 - p_2)/N$.\n",
    "- This random sampling of alleles each generation is \"genetic drift\".\n"
   ]
  },
  {
   "cell_type": "code",
   "execution_count": null,
   "id": "11083064",
   "metadata": {
    "hideOutput": false,
    "hidePrompt": true,
    "slideshow": {
     "slide_type": ""
    }
   },
   "outputs": [],
   "source": [
    "import numpy as np\n",
    "\n",
    "np.random.seed(12455)\n",
    "\n",
    "\n",
    "def haploid_trajectory(p2, w1, w2, N):\n",
    "    freqs = [p2]\n",
    "    while freqs[-1] > 0.0 and freqs[-1] < 1.0:\n",
    "        wbar = (1 - freqs[-1]) * w1 + freqs[-1] * w2\n",
    "        ep2prime = freqs[-1] + freqs[-1] * (1 - freqs[-1]) * (w2 - w1) / (wbar)\n",
    "        p2prime = np.random.binomial(N, ep2prime) / N\n",
    "        freqs.append(p2prime)\n",
    "    return freqs\n",
    "\n",
    "\n",
    "freqs = haploid_trajectory(0.01, 1.0, 1.05, 1000)\n",
    "\n",
    "ax = plt.plot([i + 1 for i in range(len(freqs))], freqs)\n",
    "plt.xlabel(\"Generation\")\n",
    "plt.ylabel(\"Frequency\")\n",
    "plt.text(0, 1.0, r\"$w_1=1.0,w_2=1.05$\");"
   ]
  },
  {
   "cell_type": "markdown",
   "id": "85385570",
   "metadata": {
    "slideshow": {
     "slide_type": "slide"
    }
   },
   "source": [
    "# Drift in a haploid population\n",
    "\n",
    "- $w_1 = w_2$"
   ]
  },
  {
   "cell_type": "code",
   "execution_count": null,
   "id": "b1d071cf",
   "metadata": {
    "hideCode": true,
    "hideOutput": false,
    "hidePrompt": true,
    "slideshow": {
     "slide_type": "-"
    }
   },
   "outputs": [],
   "source": [
    "%%html\n",
    "<iframe width=\"100%\" height=\"710\" frameborder=\"0\"\n",
    "  src=\"https://observablehq.com/embed/@molpopgen/genetic-drift-in-a-haploid-population?cells=traj_plot%2Cviewof+N%2Cviewof+num_generations%2Cviewof+num_copies%2Cviewof+num_replicates\"></iframe>"
   ]
  },
  {
   "cell_type": "markdown",
   "id": "003a0acc",
   "metadata": {
    "slideshow": {
     "slide_type": "slide"
    }
   },
   "source": [
    "# Selection in a haploid population\n",
    "\n",
    "- $w_2 \\neq w_1$"
   ]
  },
  {
   "cell_type": "code",
   "execution_count": null,
   "id": "e5d50d92",
   "metadata": {
    "hideCode": true,
    "hidePrompt": true,
    "slideshow": {
     "slide_type": "-"
    }
   },
   "outputs": [],
   "source": [
    "%%html\n",
    "<iframe width=\"100%\" height=\"750\" frameborder=\"0\"\n",
    "  src=\"https://observablehq.com/embed/@molpopgen/genetic-drift-and-selection-in-a-haploid-population?cells=traj_plot%2Cviewof+N%2Cviewof+num_generations%2Cviewof+mutant_fitness%2Cviewof+num_copies%2Cviewof+num_replicates\"></iframe>"
   ]
  },
  {
   "cell_type": "markdown",
   "id": "73332388",
   "metadata": {
    "slideshow": {
     "slide_type": "slide"
    }
   },
   "source": [
    "# Diploids\n",
    "\n",
    "We have the following model:\n",
    "\n",
    "Genotype|AA|AA |Aa \n",
    "---:|:----:|:------|:-----\n",
    "Fitness|w11|w12|w12\n",
    "Frequency at birth|p1**2|2p1(1-p1)|p2**2"
   ]
  },
  {
   "cell_type": "markdown",
   "id": "9e1507ea",
   "metadata": {
    "slideshow": {
     "slide_type": "slide"
    }
   },
   "source": [
    "# Deterministic dynamics in diploids"
   ]
  },
  {
   "cell_type": "code",
   "execution_count": null,
   "id": "c6701fdf",
   "metadata": {
    "hideCode": true,
    "hidePrompt": true,
    "slideshow": {
     "slide_type": "-"
    }
   },
   "outputs": [],
   "source": [
    "%%html\n",
    "<iframe width=\"100%\" height=\"520\" frameborder=\"0\"\n",
    "  src=\"https://observablehq.com/embed/@molpopgen/deterministic-dynamics-in-diplioid-populations?cells=traj_plot%2Cviewof+w22\"></iframe>"
   ]
  },
  {
   "cell_type": "markdown",
   "id": "afaefc8d",
   "metadata": {
    "hideCode": false,
    "hidePrompt": false,
    "slideshow": {
     "slide_type": "slide"
    }
   },
   "source": [
    "# Allele frequency dynamics in a finite diploid population"
   ]
  },
  {
   "cell_type": "code",
   "execution_count": null,
   "id": "4b9dc2fd",
   "metadata": {
    "hideCode": true,
    "hidePrompt": true,
    "slideshow": {
     "slide_type": "-"
    }
   },
   "outputs": [],
   "source": [
    "%%html\n",
    "<iframe width=\"100%\" height=\"764\" frameborder=\"0\"\n",
    "  src=\"https://observablehq.com/embed/@molpopgen/genetic-drift-and-selection-in-a-diploid-population?cells=traj_plot%2Cviewof+N%2Cviewof+num_generations%2Cviewof+num_copies%2Cviewof+wAa%2Cviewof+waa%2Cviewof+num_replicates\"></iframe>"
   ]
  },
  {
   "cell_type": "markdown",
   "id": "47cabddd",
   "metadata": {
    "slideshow": {
     "slide_type": "slide"
    }
   },
   "source": [
    "# Dynamics during fixation in finite diploid populations\n",
    "\n",
    "- $w_{11} < w_{12} \\leq w_{22}$"
   ]
  },
  {
   "cell_type": "code",
   "execution_count": null,
   "id": "ba564493",
   "metadata": {
    "hideCode": true,
    "hidePrompt": true,
    "slideshow": {
     "slide_type": "-"
    }
   },
   "outputs": [],
   "source": [
    "%%html\n",
    "<iframe width=\"100%\" height=\"704\" frameborder=\"0\"\n",
    "  src=\"https://observablehq.com/embed/@molpopgen/fixation-under-directional-selection?cells=detail_plot%2Cviewof+N%2Cviewof+num_copies%2Cviewof+selection_coefficient%2Cviewof+dominance%2Cviewof+show_genotypes\"></iframe>"
   ]
  }
 ],
 "metadata": {
  "celltoolbar": "Hide code",
  "kernelspec": {
   "display_name": "Python 3 (ipykernel)",
   "language": "python",
   "name": "python3"
  },
  "language_info": {
   "codemirror_mode": {
    "name": "ipython",
    "version": 3
   },
   "file_extension": ".py",
   "mimetype": "text/x-python",
   "name": "python",
   "nbconvert_exporter": "python",
   "pygments_lexer": "ipython3",
   "version": "3.8.10"
  }
 },
 "nbformat": 4,
 "nbformat_minor": 5
}
